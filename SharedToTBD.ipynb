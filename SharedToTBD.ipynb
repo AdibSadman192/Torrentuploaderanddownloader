{
  "nbformat": 4,
  "nbformat_minor": 0,
  "metadata": {
    "kernelspec": {
      "display_name": "Python 3",
      "language": "python",
      "name": "python3"
    },
    "language_info": {
      "codemirror_mode": {
        "name": "ipython",
        "version": 3
      },
      "file_extension": ".py",
      "mimetype": "text/x-python",
      "name": "python",
      "nbconvert_exporter": "python",
      "pygments_lexer": "ipython3",
      "version": "3.6.8"
    },
    "colab": {
      "name": "SharedToTBD.ipynb",
      "provenance": [],
      "collapsed_sections": [],
      "toc_visible": true,
      "include_colab_link": true
    }
  },
  "cells": [
    {
      "cell_type": "markdown",
      "metadata": {
        "id": "view-in-github",
        "colab_type": "text"
      },
      "source": [
        "<a href=\"https://colab.research.google.com/github/AdibSadman192/Torrentuploaderanddownloader/blob/master/SharedToTBD.ipynb\" target=\"_parent\"><img src=\"https://colab.research.google.com/assets/colab-badge.svg\" alt=\"Open In Colab\"/></a>"
      ]
    },
    {
      "cell_type": "markdown",
      "metadata": {
        "id": "cVCjqSjLtFSQ",
        "colab_type": "text"
      },
      "source": [
        "##Meta\n"
      ]
    },
    {
      "cell_type": "code",
      "metadata": {
        "id": "J38UEorrW0yE",
        "colab_type": "code",
        "outputId": "c106581f-eb6f-4f33-fe23-005116203c52",
        "colab": {
          "base_uri": "https://localhost:8080/",
          "height": 1000
        }
      },
      "source": [
        "!apt update && apt install -y sudo fish transmission-cli transmission-daemon wget unzip htop mediainfo ffmpeg\n",
        "!transmission-daemon\n",
        "!service transmission-daemon stop\n",
        "!cd /root/.config/transmission-daemon/ && rm settings.json && wget \"https://www.dropbox.com/s/ce29uuinixiivod/settings.json?dl=1\" -O settings.json\n",
        "!transmission-daemon\n",
        "!mkdir -p /content/torrents\n",
        "!mkdir -p /content/partials"
      ],
      "execution_count": 0,
      "outputs": [
        {
          "output_type": "stream",
          "text": [
            "\u001b[33m\r0% [Working]\u001b[0m\r            \rGet:1 https://cloud.r-project.org/bin/linux/ubuntu bionic-cran35/ InRelease [3,626 B]\n",
            "\u001b[33m\r0% [Connecting to archive.ubuntu.com] [Connecting to security.ubuntu.com] [1 In\u001b[0m\u001b[33m\r0% [Connecting to archive.ubuntu.com] [Connecting to security.ubuntu.com] [Conn\u001b[0m\u001b[33m\r0% [1 InRelease gpgv 3,626 B] [Connecting to archive.ubuntu.com] [Connecting to\u001b[0m\r                                                                               \rIgn:2 https://developer.download.nvidia.com/compute/cuda/repos/ubuntu1804/x86_64  InRelease\n",
            "\u001b[33m\r0% [1 InRelease gpgv 3,626 B] [Connecting to archive.ubuntu.com (91.189.88.142)\u001b[0m\u001b[33m\r0% [Connecting to archive.ubuntu.com (91.189.88.142)] [Connecting to security.u\u001b[0m\r                                                                               \rGet:3 https://cloud.r-project.org/bin/linux/ubuntu bionic-cran35/ Packages [88.1 kB]\n",
            "\u001b[33m\r0% [Connecting to archive.ubuntu.com (91.189.88.142)] [Connecting to security.u\u001b[0m\u001b[33m\r0% [Connecting to archive.ubuntu.com (91.189.88.142)] [Connecting to security.u\u001b[0m\u001b[33m\r0% [3 Packages store 0 B] [Connecting to archive.ubuntu.com (91.189.88.142)] [C\u001b[0m\u001b[33m\r0% [Connecting to archive.ubuntu.com (91.189.88.142)] [Connecting to security.u\u001b[0m\r                                                                               \rIgn:4 https://developer.download.nvidia.com/compute/machine-learning/repos/ubuntu1804/x86_64  InRelease\n",
            "\u001b[33m\r0% [Connecting to archive.ubuntu.com (91.189.88.142)] [Connecting to security.u\u001b[0m\r                                                                               \rHit:5 https://developer.download.nvidia.com/compute/cuda/repos/ubuntu1804/x86_64  Release\n",
            "Hit:6 https://developer.download.nvidia.com/compute/machine-learning/repos/ubuntu1804/x86_64  Release\n",
            "Get:7 http://ppa.launchpad.net/graphics-drivers/ppa/ubuntu bionic InRelease [21.3 kB]\n",
            "Get:9 http://security.ubuntu.com/ubuntu bionic-security InRelease [88.7 kB]\n",
            "Hit:10 http://archive.ubuntu.com/ubuntu bionic InRelease\n",
            "Get:12 http://archive.ubuntu.com/ubuntu bionic-updates InRelease [88.7 kB]\n",
            "Get:13 http://ppa.launchpad.net/marutter/c2d4u3.5/ubuntu bionic InRelease [15.4 kB]\n",
            "Get:14 http://ppa.launchpad.net/graphics-drivers/ppa/ubuntu bionic/main amd64 Packages [37.4 kB]\n",
            "Get:15 http://security.ubuntu.com/ubuntu bionic-security/universe amd64 Packages [839 kB]\n",
            "Get:16 http://archive.ubuntu.com/ubuntu bionic-backports InRelease [74.6 kB]\n",
            "Get:17 http://archive.ubuntu.com/ubuntu bionic-updates/restricted amd64 Packages [59.0 kB]\n",
            "Get:18 http://archive.ubuntu.com/ubuntu bionic-updates/universe amd64 Packages [1,372 kB]\n",
            "Get:19 http://ppa.launchpad.net/marutter/c2d4u3.5/ubuntu bionic/main Sources [1,811 kB]\n",
            "Get:20 http://security.ubuntu.com/ubuntu bionic-security/main amd64 Packages [889 kB]\n",
            "Get:21 http://security.ubuntu.com/ubuntu bionic-security/multiverse amd64 Packages [8,213 B]\n",
            "Get:22 http://security.ubuntu.com/ubuntu bionic-security/restricted amd64 Packages [44.6 kB]\n",
            "Get:23 http://archive.ubuntu.com/ubuntu bionic-updates/main amd64 Packages [1,183 kB]\n",
            "Get:24 http://archive.ubuntu.com/ubuntu bionic-updates/multiverse amd64 Packages [12.6 kB]\n",
            "Get:25 http://ppa.launchpad.net/marutter/c2d4u3.5/ubuntu bionic/main amd64 Packages [874 kB]\n",
            "Fetched 7,510 kB in 7s (1,098 kB/s)\n",
            "Reading package lists... Done\n",
            "Building dependency tree       \n",
            "Reading state information... Done\n",
            "62 packages can be upgraded. Run 'apt list --upgradable' to see them.\n",
            "Reading package lists... Done\n",
            "Building dependency tree       \n",
            "Reading state information... Done\n",
            "unzip is already the newest version (6.0-21ubuntu1).\n",
            "sudo is already the newest version (1.8.21p2-3ubuntu1.2).\n",
            "wget is already the newest version (1.19.4-1ubuntu2.2).\n",
            "ffmpeg is already the newest version (7:3.4.6-0ubuntu0.18.04.1).\n",
            "The following additional packages will be installed:\n",
            "  bc fish-common javascript-common libevent-2.1-6 libjs-jquery libmediainfo0v5\n",
            "  libminiupnpc10 libmms0 libnatpmp1 libtinyxml2-6 libzen0v5 lynx lynx-common\n",
            "  transmission-common\n",
            "Suggested packages:\n",
            "  doc-base strace apache2 | lighttpd | httpd minissdpd natpmpc mediainfo-gui\n",
            "  transmission-gtk\n",
            "The following NEW packages will be installed:\n",
            "  bc fish fish-common htop javascript-common libevent-2.1-6 libjs-jquery\n",
            "  libmediainfo0v5 libminiupnpc10 libmms0 libnatpmp1 libtinyxml2-6 libzen0v5\n",
            "  lynx lynx-common mediainfo transmission-cli transmission-common\n",
            "  transmission-daemon\n",
            "0 upgraded, 19 newly installed, 0 to remove and 62 not upgraded.\n",
            "Need to get 6,581 kB of archives.\n",
            "After this operation, 28.4 MB of additional disk space will be used.\n",
            "Get:1 http://archive.ubuntu.com/ubuntu bionic/main amd64 bc amd64 1.07.1-2 [86.2 kB]\n",
            "Get:2 http://archive.ubuntu.com/ubuntu bionic/main amd64 libjs-jquery all 3.2.1-1 [152 kB]\n",
            "Get:3 http://archive.ubuntu.com/ubuntu bionic/universe amd64 fish-common all 2.7.1-3 [1,025 kB]\n",
            "Get:4 http://archive.ubuntu.com/ubuntu bionic/universe amd64 lynx-common all 2.8.9dev16-3 [940 kB]\n",
            "Get:5 http://archive.ubuntu.com/ubuntu bionic/universe amd64 lynx amd64 2.8.9dev16-3 [628 kB]\n",
            "Get:6 http://archive.ubuntu.com/ubuntu bionic/universe amd64 fish amd64 2.7.1-3 [591 kB]\n",
            "Get:7 http://archive.ubuntu.com/ubuntu bionic/main amd64 transmission-common all 2.92-3ubuntu2 [237 kB]\n",
            "Get:8 http://archive.ubuntu.com/ubuntu bionic/main amd64 libevent-2.1-6 amd64 2.1.8-stable-4build1 [133 kB]\n",
            "Get:9 http://archive.ubuntu.com/ubuntu bionic/main amd64 libminiupnpc10 amd64 1.9.20140610-4ubuntu2 [24.1 kB]\n",
            "Get:10 http://archive.ubuntu.com/ubuntu bionic/main amd64 libnatpmp1 amd64 20150609-2 [7,612 B]\n",
            "Get:11 http://archive.ubuntu.com/ubuntu bionic/universe amd64 transmission-daemon amd64 2.92-3ubuntu2 [221 kB]\n",
            "Get:12 http://archive.ubuntu.com/ubuntu bionic/main amd64 htop amd64 2.1.0-3 [80.0 kB]\n",
            "Get:13 http://archive.ubuntu.com/ubuntu bionic/main amd64 javascript-common all 11 [6,066 B]\n",
            "Get:14 http://archive.ubuntu.com/ubuntu bionic/universe amd64 libmms0 amd64 0.6.4-2 [27.4 kB]\n",
            "Get:15 http://archive.ubuntu.com/ubuntu bionic/universe amd64 libtinyxml2-6 amd64 6.0.0+dfsg-1 [27.9 kB]\n",
            "Get:16 http://archive.ubuntu.com/ubuntu bionic/universe amd64 libzen0v5 amd64 0.4.37-1 [94.0 kB]\n",
            "Get:17 http://archive.ubuntu.com/ubuntu bionic-updates/universe amd64 libmediainfo0v5 amd64 17.12-1ubuntu0.1 [1,865 kB]\n",
            "Get:18 http://archive.ubuntu.com/ubuntu bionic/universe amd64 mediainfo amd64 17.12-1 [29.5 kB]\n",
            "Get:19 http://archive.ubuntu.com/ubuntu bionic/universe amd64 transmission-cli amd64 2.92-3ubuntu2 [406 kB]\n",
            "Fetched 6,581 kB in 3s (1,942 kB/s)\n",
            "Selecting previously unselected package bc.\n",
            "(Reading database ... 144568 files and directories currently installed.)\n",
            "Preparing to unpack .../00-bc_1.07.1-2_amd64.deb ...\n",
            "Unpacking bc (1.07.1-2) ...\n",
            "Selecting previously unselected package libjs-jquery.\n",
            "Preparing to unpack .../01-libjs-jquery_3.2.1-1_all.deb ...\n",
            "Unpacking libjs-jquery (3.2.1-1) ...\n",
            "Selecting previously unselected package fish-common.\n",
            "Preparing to unpack .../02-fish-common_2.7.1-3_all.deb ...\n",
            "Unpacking fish-common (2.7.1-3) ...\n",
            "Selecting previously unselected package lynx-common.\n",
            "Preparing to unpack .../03-lynx-common_2.8.9dev16-3_all.deb ...\n",
            "Unpacking lynx-common (2.8.9dev16-3) ...\n",
            "Selecting previously unselected package lynx.\n",
            "Preparing to unpack .../04-lynx_2.8.9dev16-3_amd64.deb ...\n",
            "Unpacking lynx (2.8.9dev16-3) ...\n",
            "Selecting previously unselected package fish.\n",
            "Preparing to unpack .../05-fish_2.7.1-3_amd64.deb ...\n",
            "Unpacking fish (2.7.1-3) ...\n",
            "Selecting previously unselected package transmission-common.\n",
            "Preparing to unpack .../06-transmission-common_2.92-3ubuntu2_all.deb ...\n",
            "Unpacking transmission-common (2.92-3ubuntu2) ...\n",
            "Selecting previously unselected package libevent-2.1-6:amd64.\n",
            "Preparing to unpack .../07-libevent-2.1-6_2.1.8-stable-4build1_amd64.deb ...\n",
            "Unpacking libevent-2.1-6:amd64 (2.1.8-stable-4build1) ...\n",
            "Selecting previously unselected package libminiupnpc10:amd64.\n",
            "Preparing to unpack .../08-libminiupnpc10_1.9.20140610-4ubuntu2_amd64.deb ...\n",
            "Unpacking libminiupnpc10:amd64 (1.9.20140610-4ubuntu2) ...\n",
            "Selecting previously unselected package libnatpmp1.\n",
            "Preparing to unpack .../09-libnatpmp1_20150609-2_amd64.deb ...\n",
            "Unpacking libnatpmp1 (20150609-2) ...\n",
            "Selecting previously unselected package transmission-daemon.\n",
            "Preparing to unpack .../10-transmission-daemon_2.92-3ubuntu2_amd64.deb ...\n",
            "Unpacking transmission-daemon (2.92-3ubuntu2) ...\n",
            "Selecting previously unselected package htop.\n",
            "Preparing to unpack .../11-htop_2.1.0-3_amd64.deb ...\n",
            "Unpacking htop (2.1.0-3) ...\n",
            "Selecting previously unselected package javascript-common.\n",
            "Preparing to unpack .../12-javascript-common_11_all.deb ...\n",
            "Unpacking javascript-common (11) ...\n",
            "Selecting previously unselected package libmms0:amd64.\n",
            "Preparing to unpack .../13-libmms0_0.6.4-2_amd64.deb ...\n",
            "Unpacking libmms0:amd64 (0.6.4-2) ...\n",
            "Selecting previously unselected package libtinyxml2-6:amd64.\n",
            "Preparing to unpack .../14-libtinyxml2-6_6.0.0+dfsg-1_amd64.deb ...\n",
            "Unpacking libtinyxml2-6:amd64 (6.0.0+dfsg-1) ...\n",
            "Selecting previously unselected package libzen0v5:amd64.\n",
            "Preparing to unpack .../15-libzen0v5_0.4.37-1_amd64.deb ...\n",
            "Unpacking libzen0v5:amd64 (0.4.37-1) ...\n",
            "Selecting previously unselected package libmediainfo0v5:amd64.\n",
            "Preparing to unpack .../16-libmediainfo0v5_17.12-1ubuntu0.1_amd64.deb ...\n",
            "Unpacking libmediainfo0v5:amd64 (17.12-1ubuntu0.1) ...\n",
            "Selecting previously unselected package mediainfo.\n",
            "Preparing to unpack .../17-mediainfo_17.12-1_amd64.deb ...\n",
            "Unpacking mediainfo (17.12-1) ...\n",
            "Selecting previously unselected package transmission-cli.\n",
            "Preparing to unpack .../18-transmission-cli_2.92-3ubuntu2_amd64.deb ...\n",
            "Unpacking transmission-cli (2.92-3ubuntu2) ...\n",
            "Setting up libtinyxml2-6:amd64 (6.0.0+dfsg-1) ...\n",
            "Setting up libjs-jquery (3.2.1-1) ...\n",
            "Setting up libmms0:amd64 (0.6.4-2) ...\n",
            "Setting up libevent-2.1-6:amd64 (2.1.8-stable-4build1) ...\n",
            "Setting up libminiupnpc10:amd64 (1.9.20140610-4ubuntu2) ...\n",
            "Setting up libnatpmp1 (20150609-2) ...\n",
            "Setting up transmission-common (2.92-3ubuntu2) ...\n",
            "Setting up transmission-cli (2.92-3ubuntu2) ...\n",
            "Setting up libzen0v5:amd64 (0.4.37-1) ...\n",
            "Setting up fish-common (2.7.1-3) ...\n",
            "Setting up javascript-common (11) ...\n",
            "Setting up htop (2.1.0-3) ...\n",
            "Setting up bc (1.07.1-2) ...\n",
            "Setting up lynx-common (2.8.9dev16-3) ...\n",
            "Setting up lynx (2.8.9dev16-3) ...\n",
            "update-alternatives: using /usr/bin/lynx to provide /usr/bin/www-browser (www-browser) in auto mode\n",
            "Setting up transmission-daemon (2.92-3ubuntu2) ...\n",
            "Created symlink /etc/systemd/system/multi-user.target.wants/transmission-daemon.service → /lib/systemd/system/transmission-daemon.service.\n",
            "invoke-rc.d: could not determine current runlevel\n",
            "invoke-rc.d: policy-rc.d denied execution of start.\n",
            "Setting up fish (2.7.1-3) ...\n",
            "Setting up libmediainfo0v5:amd64 (17.12-1ubuntu0.1) ...\n",
            "Setting up mediainfo (17.12-1) ...\n",
            "Processing triggers for mime-support (3.60ubuntu1) ...\n",
            "Processing triggers for libc-bin (2.27-3ubuntu1) ...\n",
            "/sbin/ldconfig.real: /usr/local/lib/python3.6/dist-packages/ideep4py/lib/libmkldnn.so.0 is not a symbolic link\n",
            "\n",
            "Processing triggers for systemd (237-3ubuntu10.39) ...\n",
            "Processing triggers for man-db (2.8.3-2ubuntu0.1) ...\n",
            "Processing triggers for hicolor-icon-theme (0.17-2) ...\n",
            " * Stopping bittorrent daemon transmission-daemon\n",
            "   ...done.\n",
            "--2020-04-18 13:13:43--  https://www.dropbox.com/s/ce29uuinixiivod/settings.json?dl=1\n",
            "Resolving www.dropbox.com (www.dropbox.com)... 162.125.82.1, 2620:100:6032:1::a27d:5201\n",
            "Connecting to www.dropbox.com (www.dropbox.com)|162.125.82.1|:443... connected.\n",
            "HTTP request sent, awaiting response... 301 Moved Permanently\n",
            "Location: /s/dl/ce29uuinixiivod/settings.json [following]\n",
            "--2020-04-18 13:13:43--  https://www.dropbox.com/s/dl/ce29uuinixiivod/settings.json\n",
            "Reusing existing connection to www.dropbox.com:443.\n",
            "HTTP request sent, awaiting response... 302 Found\n",
            "Location: https://ucca0f982b4ac9baaf22d95a9e58.dl.dropboxusercontent.com/cd/0/get/A2Elxa-ZZ2mfS3_6J_3FOR-jk2O-nmq6cvq2E76AuT9sTuur-cisPX0PLE-2cu8462GZmyPh0J9C58cNGdHv1U2EEpCpi-m6LYQDUTE1auCqt7kaZZp_DcJtg2E6P3-Izwk/file?dl=1# [following]\n",
            "--2020-04-18 13:13:44--  https://ucca0f982b4ac9baaf22d95a9e58.dl.dropboxusercontent.com/cd/0/get/A2Elxa-ZZ2mfS3_6J_3FOR-jk2O-nmq6cvq2E76AuT9sTuur-cisPX0PLE-2cu8462GZmyPh0J9C58cNGdHv1U2EEpCpi-m6LYQDUTE1auCqt7kaZZp_DcJtg2E6P3-Izwk/file?dl=1\n",
            "Resolving ucca0f982b4ac9baaf22d95a9e58.dl.dropboxusercontent.com (ucca0f982b4ac9baaf22d95a9e58.dl.dropboxusercontent.com)... 162.125.82.6, 2620:100:6032:6::a27d:5206\n",
            "Connecting to ucca0f982b4ac9baaf22d95a9e58.dl.dropboxusercontent.com (ucca0f982b4ac9baaf22d95a9e58.dl.dropboxusercontent.com)|162.125.82.6|:443... connected.\n",
            "HTTP request sent, awaiting response... 200 OK\n",
            "Length: 358 [application/binary]\n",
            "Saving to: ‘settings.json’\n",
            "\n",
            "settings.json       100%[===================>]     358  --.-KB/s    in 0s      \n",
            "\n",
            "2020-04-18 13:13:44 (37.4 MB/s) - ‘settings.json’ saved [358/358]\n",
            "\n"
          ],
          "name": "stdout"
        }
      ]
    },
    {
      "cell_type": "code",
      "metadata": {
        "id": "HuewmPb7Re4l",
        "colab_type": "code",
        "colab": {}
      },
      "source": [
        "#from google.colab import drive\n",
        "#drive.mount('/content/drive')"
      ],
      "execution_count": 0,
      "outputs": []
    },
    {
      "cell_type": "code",
      "metadata": {
        "id": "jadbXv-TZ-lJ",
        "colab_type": "code",
        "colab": {}
      },
      "source": [
        "PARTIAL_DIR = \"/content/partials/\"\n",
        "DOWNLOAD_DIR = \"/content/Downloads/\"\n",
        "PARTIAL_PERCENT = 25\n",
        "AUTO_PROCESS_UPLOAD = True"
      ],
      "execution_count": 0,
      "outputs": []
    },
    {
      "cell_type": "code",
      "metadata": {
        "id": "Akr5W-R6Wj9P",
        "colab_type": "code",
        "colab": {}
      },
      "source": [
        "CURRENT_ID = 0\n",
        "PARTIALS = {}\n",
        "COMPLETED = set()\n",
        "COMPLETED_NON_TBD = set()\n",
        "TBD = set()\n",
        "CURRENT = []\n",
        "PROCESSED_TO_UPLOAD = set()\n",
        "CURRENTLY_PROCESSING = -1"
      ],
      "execution_count": 0,
      "outputs": []
    },
    {
      "cell_type": "code",
      "metadata": {
        "id": "VB7yUsWLCZ3y",
        "colab_type": "code",
        "colab": {}
      },
      "source": [
        "def remaining_session_time():\n",
        "  import time, psutil\n",
        "  uptime = time.time() - psutil.boot_time()\n",
        "  remain = 12*60*60 - uptime\n",
        "  return remain/3600"
      ],
      "execution_count": 0,
      "outputs": []
    },
    {
      "cell_type": "code",
      "metadata": {
        "id": "JPTF9IIpI_oH",
        "colab_type": "code",
        "colab": {}
      },
      "source": [
        "def text_to_lines(text):\n",
        "    import os\n",
        "    result = os.linesep.join([s for s in text.splitlines() if s])\n",
        "    return result.split('\\n')"
      ],
      "execution_count": 0,
      "outputs": []
    },
    {
      "cell_type": "code",
      "metadata": {
        "id": "DaYGN1ZNWj9V",
        "colab_type": "code",
        "colab": {}
      },
      "source": [
        "def execute_raw_cmd(cmd):\n",
        "    import subprocess\n",
        "    return subprocess.run(cmd, stdout=subprocess.PIPE).stdout.decode('utf-8')"
      ],
      "execution_count": 0,
      "outputs": []
    },
    {
      "cell_type": "code",
      "metadata": {
        "id": "ANoqVxF-Wj9Z",
        "colab_type": "code",
        "colab": {}
      },
      "source": [
        "def execute_cmd(cmd):\n",
        "    import subprocess\n",
        "    cmd = cmd.split()\n",
        "    return subprocess.run(cmd, stdout=subprocess.PIPE).stdout.decode('utf-8')\n",
        "    "
      ],
      "execution_count": 0,
      "outputs": []
    },
    {
      "cell_type": "code",
      "metadata": {
        "id": "h4WKdEHXWj9f",
        "colab_type": "code",
        "colab": {}
      },
      "source": [
        "def execute_cmd_sync(cmd):    \n",
        "    import subprocess\n",
        "    p = subprocess.Popen(cmd, stdout=subprocess.PIPE, stderr=subprocess.STDOUT)\n",
        "    while(True):\n",
        "        # returns None while subprocess is running\n",
        "        retcode = p.poll() \n",
        "        single_char = str(p.stdout.read(1).decode(\"utf-8\"))\n",
        "        yield single_char\n",
        "        if retcode is not None:\n",
        "            remaining = str(p.stdout.read().decode(\"utf-8\"))\n",
        "            for single_char in remaining:\n",
        "              yield single_char\n",
        "            break"
      ],
      "execution_count": 0,
      "outputs": []
    },
    {
      "cell_type": "code",
      "metadata": {
        "id": "idqJSN7BLeGG",
        "colab_type": "code",
        "colab": {}
      },
      "source": [
        "def print_sync_cmd(cmd):\n",
        "  import sys\n",
        "  result = \"\"\n",
        "  for single_char in execute_cmd_sync(cmd):\n",
        "    if single_char == '\\n':\n",
        "      print(result)\n",
        "      result = \"\"\n",
        "      continue\n",
        "    if len(result) >= 120:\n",
        "      print(\"\")\n",
        "      result = \"\"\n",
        "      \n",
        "    result += single_char\n",
        "    sys.stdout.write(\"\\r\" + result)\n",
        "    sys.stdout.flush()"
      ],
      "execution_count": 0,
      "outputs": []
    },
    {
      "cell_type": "code",
      "metadata": {
        "id": "6brVHZ5mWj9k",
        "colab_type": "code",
        "colab": {}
      },
      "source": [
        "def create_torrent(to_path, torrent, verbose=True):\n",
        "    import subprocess\n",
        "    import os\n",
        "    import sys\n",
        "    \n",
        "    cmd = ['transmission-create',\n",
        "           '-p',\n",
        "           '-t',\n",
        "           \"https://tracker.torrentbd.net/announce\",\n",
        "           '-o',\n",
        "           to_path,\n",
        "           torrent\n",
        "          ]\n",
        "    if verbose:\n",
        "      print_sync_cmd(cmd)    \n",
        "    else:\n",
        "      execute_raw_cmd(cmd)"
      ],
      "execution_count": 0,
      "outputs": []
    },
    {
      "cell_type": "code",
      "metadata": {
        "id": "hVYQXUzTNlrT",
        "colab_type": "code",
        "colab": {}
      },
      "source": [
        "def is_tbd(id):\n",
        "    tracker = execute_cmd(\"transmission-remote -t {} -it\".format(id))\n",
        "    tracker = text_to_lines(tracker)\n",
        "    tracker = tracker[0].strip()\n",
        "    return tracker == \"Tracker 0: http://tracker.torrentbd.net:3840\""
      ],
      "execution_count": 0,
      "outputs": []
    },
    {
      "cell_type": "code",
      "metadata": {
        "id": "22NuaHNpWj9t",
        "colab_type": "code",
        "colab": {}
      },
      "source": [
        "def is_float(value):\n",
        "  try:\n",
        "    float(value)\n",
        "    return True\n",
        "  except ValueError:\n",
        "    return False\n",
        "\n",
        "def get_torrent_info(status, more=False):\n",
        "    import re\n",
        "    \n",
        "    splitted = status.split()\n",
        "    digits_only = re.sub(\"[^0-9]\", \"\", splitted[0])\n",
        "    if len(digits_only) == 0:\n",
        "        id = -1\n",
        "    else:\n",
        "        id = int(digits_only)\n",
        "        \n",
        "    digits_only = re.sub(\"[^0-9]\", \"\", splitted[1])\n",
        "    if (len(digits_only) == 0):\n",
        "        progress = 0\n",
        "    else:\n",
        "        progress = int(digits_only)\n",
        "        \n",
        "    name = splitted[-1]\n",
        "    if more:\n",
        "        total = len(splitted)\n",
        "        up = 0.0\n",
        "        down = 0.0\n",
        "        ratio = 0.0\n",
        "        for i in range(5, total):\n",
        "            if is_float(splitted[i]) and (i+1)<total and is_float(splitted[i+1]) and (i+2) < total and is_float(splitted[i+2]):\n",
        "                up = float(splitted[i])\n",
        "                down = float(splitted[i+1])\n",
        "                ratio = float(splitted[i+2])\n",
        "                break\n",
        "        return id, progress, name, up, down, ratio\n",
        "    else:\n",
        "        return id, progress, name"
      ],
      "execution_count": 0,
      "outputs": []
    },
    {
      "cell_type": "code",
      "metadata": {
        "id": "uv4MSvoZWj9p",
        "colab_type": "code",
        "outputId": "566b2332-c7e9-477a-8f4f-43fcbd08f0a8",
        "colab": {
          "base_uri": "https://localhost:8080/",
          "height": 34
        }
      },
      "source": [
        "def update_torrent_list():\n",
        "  global CURRENT\n",
        "  try:\n",
        "    result = execute_cmd(\"transmission-remote -l\")\n",
        "    result = text_to_lines(result)\n",
        "    if (len(result) > 0):\n",
        "      CURRENT = result\n",
        "  except:\n",
        "    pass\n",
        "\n",
        "import time\n",
        "def keep_updating_torrents():\n",
        "  while True:\n",
        "    try:\n",
        "      update_torrent_list()\n",
        "    except Exception as ex:\n",
        "      print(ex)\n",
        "      pass\n",
        "    time.sleep(0.75)\n",
        "\n",
        "import threading\n",
        "update_thread = threading.Thread(target=keep_updating_torrents)\n",
        "        \n",
        "if not update_thread.isAlive():\n",
        "    update_thread.start()\n",
        "    print (\"Torrent update thread started\")\n",
        "else:\n",
        "    print(\"Torrent update thread is already running.\")\n",
        "\n",
        "def get_current_torrent_list():\n",
        "  return CURRENT"
      ],
      "execution_count": 0,
      "outputs": [
        {
          "output_type": "stream",
          "text": [
            "Torrent update thread started\n"
          ],
          "name": "stdout"
        }
      ]
    },
    {
      "cell_type": "code",
      "metadata": {
        "id": "Od-vlYVkz7Bk",
        "colab_type": "code",
        "colab": {}
      },
      "source": [
        "def get_file_info(id):\n",
        "  import os\n",
        "\n",
        "  #Returns \n",
        "  # torrent root path to create torrent\n",
        "  # media file path to take snapshot\n",
        "  # file lists as additional message (to use as details)\n",
        "  file_info = execute_cmd(\"transmission-remote -t {} -if\".format(id))\n",
        "  file_info = text_to_lines(file_info)\n",
        "  \n",
        "  mx_filesize = 0.0\n",
        "  mx_filepath = \"\"\n",
        "  files = []\n",
        "  for single_file in file_info[2:]:\n",
        "      \n",
        "      file_path = single_file[32:].strip()\n",
        "      \n",
        "      splitted = single_file[22:32].split()\n",
        "      file_size = float(splitted[0])\n",
        "      if splitted[1] == 'MB':\n",
        "          file_size *= 1024.0\n",
        "      elif splitted[1] == 'GB':\n",
        "          file_size *= 1024.0 * 1024.0\n",
        "\n",
        "      if mx_filesize < file_size:\n",
        "          mx_filesize = file_size\n",
        "          mx_filepath = file_path\n",
        "      \n",
        "      if single_file.endswith(\"RARBG.txt\") or single_file.endswith(\"RARBG_DO_NOT_MIRROR.exe\") or (\"Downloaded from\" in single_file):\n",
        "          remove_path = os.path.join(DOWNLOAD_DIR, file_path)\n",
        "          if os.path.exists(remove_path):\n",
        "              os.remove(remove_path)\n",
        "      else:\n",
        "        files.append(single_file[22:])\n",
        "  \n",
        "  root_dir = mx_filepath.split('/')[0]\n",
        "  filepath = os.path.basename(mx_filepath)\n",
        "\n",
        "  message = \"Title: {}\\n\".format(clean_title(root_dir))\n",
        "  message += \"File Title: {}\\n\\n\".format(clean_title(os.path.splitext(filepath)[0]))\n",
        "\n",
        "  message += \"Directory: {}\\n\".format(root_dir)\n",
        "  message += \"Total Files: {}\\n\".format(len(files))\n",
        "  message += \"Max File Size: {} KB\\nMax Size File Name: {}\\n\\n\".format(mx_filesize, filepath)\n",
        "  message += \"File List:\\n\"\n",
        "  if len(files) < 11:\n",
        "      for single_file in files:\n",
        "          message += single_file + \"\\n\"\n",
        "  else:\n",
        "      for single_file in files[:5]:\n",
        "          message += single_file + \"\\n\"\n",
        "      message += \"...\\n\"\n",
        "      for single_file in files[-5:]:\n",
        "          message += single_file + \"\\n\"\n",
        "\n",
        "  directory = os.path.join(DOWNLOAD_DIR, root_dir)\n",
        "  media_filepath = os.path.join(DOWNLOAD_DIR, mx_filepath)\n",
        "\n",
        "\n",
        "  if os.path.isdir(directory):\n",
        "      return directory, media_filepath, message\n",
        "  else:\n",
        "      return media_filepath, media_filepath, message"
      ],
      "execution_count": 0,
      "outputs": []
    },
    {
      "cell_type": "code",
      "metadata": {
        "id": "zDMq2uOkWj92",
        "colab_type": "code",
        "colab": {}
      },
      "source": [
        "def add_torrent(torrent, dir, is_partial=True):\n",
        "    import os\n",
        "    global CURRENT_ID\n",
        "    global TBD\n",
        "    \n",
        "    torrent_list = get_current_torrent_list()\n",
        "    torrent_list = torrent_list[1:-1]\n",
        "    total = len(torrent_list)\n",
        "    \n",
        "    output = execute_raw_cmd([\"transmission-remote\", \"-a\", torrent, \"-w\", dir])\n",
        "    update_torrent_list()\n",
        "    updated_list = get_current_torrent_list()\n",
        "    updated_list = updated_list[1:-1]\n",
        "    message = output + \"\\n\"\n",
        "    if len(updated_list) <= total:\n",
        "       message += \"Already exists. Please check: {}\".format(torrent)\n",
        "    else:\n",
        "        CURRENT_ID, _, name = get_torrent_info(updated_list[-1])\n",
        "\n",
        "        if is_tbd(CURRENT_ID):\n",
        "          TBD.add(CURRENT_ID)\n",
        "        \n",
        "        if is_partial:\n",
        "            PARTIALS[CURRENT_ID] = PARTIAL_PERCENT\n",
        "            message += \"Added (as temporary ID:{}): {}\".format(CURRENT_ID, name) + \"\\n\"\n",
        "            cmd = \"transmission-remote -t {} -d 10240\".format(CURRENT_ID)\n",
        "            message += \"Setting max download speed to 10MB: {}\".format(execute_cmd(cmd)) + \"\\n\"\n",
        "        else:\n",
        "            message += \"Added (as ID:{}): {}\".format(CURRENT_ID, name) + \"\\n\"\n",
        "            #if not is_tbd_torrent:\n",
        "            #    cmd = \"transmission-remote -t {} -u 10240\".format(CURRENT_ID)\n",
        "            #    print(\"[NON TBD] Setting max upload speed to 10MB: {}\".format(execute_cmd(cmd)))\n",
        "    return message\n",
        "    "
      ],
      "execution_count": 0,
      "outputs": []
    },
    {
      "cell_type": "code",
      "metadata": {
        "id": "3UhJEWXbWj95",
        "colab_type": "code",
        "colab": {}
      },
      "source": [
        "def force_watch_dir(path, dir=\"/content/Downloads/\", is_partial=False):\n",
        "    import os\n",
        "    from glob import glob\n",
        "    torrent_files = glob(path+\"/*.torrent\")\n",
        "    if (len(torrent_files) ==0):\n",
        "        return\n",
        "    for torrent_file in torrent_files:\n",
        "        add_torrent(torrent_file, dir, is_partial)\n",
        "        os.remove(torrent_file)"
      ],
      "execution_count": 0,
      "outputs": []
    },
    {
      "cell_type": "code",
      "metadata": {
        "id": "6n5-d7d_Wj9-",
        "colab_type": "code",
        "colab": {}
      },
      "source": [
        "def show_latest(count=5):\n",
        "    global TBD\n",
        "    import time\n",
        "    import os\n",
        "    \n",
        "    torrent_list = get_current_torrent_list()\n",
        "    print(\"  \" + torrent_list[0])\n",
        "    torrent_list = torrent_list[1:]\n",
        "    for torrent in torrent_list[-(count+1):-1]:\n",
        "        if torrent == \"\":\n",
        "            continue\n",
        "        id, _, _ = get_torrent_info(torrent)\n",
        "        if id in PARTIALS.keys():\n",
        "            torrent = \">\" + torrent[1:]\n",
        "        if id in TBD:\n",
        "            torrent = \"*\" + torrent\n",
        "        else:\n",
        "          torrent = \" \" + torrent\n",
        "        print (torrent)\n",
        "\n",
        "    if not control_thread.isAlive():\n",
        "        print(\"Control thread was terminated. Please manually check the partial torrents.\")"
      ],
      "execution_count": 0,
      "outputs": []
    },
    {
      "cell_type": "code",
      "metadata": {
        "id": "VGGyb27qWj97",
        "colab_type": "code",
        "colab": {}
      },
      "source": [
        "def torrent_status():\n",
        "    global PROCESSED_TO_UPLOAD\n",
        "    global CURRENTLY_PROCESSING\n",
        "\n",
        "    import time\n",
        "    import os\n",
        "    import sys\n",
        "    from IPython.display import clear_output, display\n",
        "\n",
        "    status_show_count = 0\n",
        "    while True:\n",
        "        if (status_show_count%5) == 0:\n",
        "            clear_output(wait=True)\n",
        "\n",
        "            print(\"-\"*110)\n",
        "            if CURRENTLY_PROCESSING != -1:\n",
        "                print(\"Id {} is being processed for upload.\".format(CURRENTLY_PROCESSING))\n",
        "            if len(PROCESSED_TO_UPLOAD) > 0:\n",
        "              print(\"Ready To Upload Torrents: {}\".format(len(PROCESSED_TO_UPLOAD)))\n",
        "              for processed in PROCESSED_TO_UPLOAD:\n",
        "                print(processed)\n",
        "            print(\"-\"*110)\n",
        "\n",
        "            show_latest(50)\n",
        "\n",
        "            print(\"-\"*110)\n",
        "            print(\"  ID     Done       Have  ETA           Up    Down       Max_UP                Max_DL      Total Torrents        Remaining Session Time\")\n",
        "\n",
        "        torrent_list = get_current_torrent_list()\n",
        "        \n",
        "        max_down = 0.0\n",
        "        max_down_id = -1\n",
        "        max_down_progress = 0.0\n",
        "        \n",
        "        max_up = 0.0\n",
        "        max_up_id = -1\n",
        "        max_up_ratio = 0.0\n",
        "        \n",
        "        for torrent in torrent_list[1:-1]:\n",
        "            id, progress, name, up, down, ratio = get_torrent_info(torrent, more=True)\n",
        "            if max_down < down:\n",
        "                max_down = down\n",
        "                max_down_id = id\n",
        "                max_down_progress = progress\n",
        "            if max_up < up:\n",
        "                max_up = up\n",
        "                max_up_id = id\n",
        "                max_up_ratio = ratio\n",
        "        \n",
        "        result = torrent_list[-1]\n",
        "        result = \"  {}    {:>6} ({}:{}⬆)     {:>6} ({}:{}%)    {:>9} {:>15.2f} h       \".format(result,\n",
        "                                                                                max_up,\n",
        "                                                                                max_up_id, max_up_ratio,\n",
        "                                                                                max_down,\n",
        "                                                                                max_down_id, max_down_progress,\n",
        "                                                                                len(torrent_list)-2,\n",
        "                                                                                remaining_session_time())\n",
        "        sys.stdout.write(\"\\r\" + result)\n",
        "        sys.stdout.flush()\n",
        "        status_show_count += 1\n",
        "        try:\n",
        "          time.sleep(1.0)    \n",
        "        except:\n",
        "          break"
      ],
      "execution_count": 0,
      "outputs": []
    },
    {
      "cell_type": "code",
      "metadata": {
        "id": "YRNoMXCkWj-C",
        "colab_type": "code",
        "colab": {}
      },
      "source": [
        "def image_to_bbcode(image_path):\n",
        "  import requests\n",
        "  import json\n",
        "  url = \"https://api.imgbb.com/1/upload\"\n",
        "  params = {'key': '6e626bc39834ef34e6d84ff2e0579736'}\n",
        "  with open(image_path, 'rb') as f:\n",
        "      r = requests.post(url, params=params, files={'image': f})\n",
        "      if r.status_code == requests.status_codes.codes.all_ok:\n",
        "        json_text = r.text\n",
        "        response = json.loads(json_text)\n",
        "        if 'data' in response:\n",
        "          data = response['data']\n",
        "          if 'image' in data and 'url' in data['image']:\n",
        "            image_url = data['image']['url']\n",
        "\n",
        "            if 'medium' in data and 'url' in data['medium']:\n",
        "              medium_url = data['medium']['url']\n",
        "              return \"[url={image_url}][img]{medium_url}[/img][/url]\".format(\n",
        "                  image_url=image_url,\n",
        "                  medium_url=medium_url)\n",
        "            else:\n",
        "              return \"[url={image_url}][img]{medium_url}[/img][/url]\".format(\n",
        "                  image_url=image_url,\n",
        "                  medium_url=image_url)\n",
        "\n",
        "      else:\n",
        "        pass\n",
        "  return \"Failed\"\n",
        "\n",
        "def take_snaps(to_path, file_path):\n",
        "    import os\n",
        "    screenshots = \"\"\n",
        "    for i in range(1, 6):\n",
        "        try:\n",
        "            snap_path = os.path.join(to_path,\"{}_snap{}.jpg\".format(os.path.basename(file_path), i))\n",
        "            cmd = [\"ffmpeg\",\n",
        "                  \"-y\",\n",
        "                  \"-ss\",\n",
        "                  \"00:{0:02d}:15\".format(i*5),\n",
        "                  \"-i\",\n",
        "                  file_path,\n",
        "                  \"-vframes\",\n",
        "                  \"1\",\n",
        "                  \"-q:v\",\n",
        "                  \"1\",\n",
        "                  snap_path\n",
        "                  ]\n",
        "            execute_raw_cmd(cmd)\n",
        "            screenshots += image_to_bbcode(snap_path) + \" \"\n",
        "            os.remove(snap_path)\n",
        "        except Exception as e:\n",
        "            print(e)\n",
        "\n",
        "    return screenshots\n",
        "        "
      ],
      "execution_count": 0,
      "outputs": []
    },
    {
      "cell_type": "code",
      "metadata": {
        "id": "OT3LSo9oWj-F",
        "colab_type": "code",
        "outputId": "dc9ca939-1d9c-4b3f-e6d1-52820924d860",
        "colab": {
          "base_uri": "https://localhost:8080/",
          "height": 34
        }
      },
      "source": [
        "def control_torrent(status):\n",
        "    global COMPLETED\n",
        "    global COMPLETED_NON_TBD\n",
        "    import time\n",
        "    id, progress, name = get_torrent_info(status)\n",
        "    \n",
        "    if id not in COMPLETED and progress == 100:\n",
        "        if not is_tbd(id):\n",
        "          COMPLETED_NON_TBD.add(id)\n",
        "        COMPLETED.add(id)\n",
        "    \n",
        "    if id in PARTIALS.keys() and PARTIALS.get(id) <= progress:\n",
        "        print (\"Temporary torrent deleted at {}% (id:{}): {}\".format(progress, id, name))\n",
        "        cmd = \"transmission-remote -t {} -rad\".format(id)\n",
        "        execute_cmd(cmd)\n",
        "        del PARTIALS[id]\n",
        "        \n",
        "\n",
        "def control_torrents(all_status):\n",
        "    for status in all_status:\n",
        "        control_torrent(status)\n",
        "\n",
        "def torrent_control():\n",
        "    import time\n",
        "    import os\n",
        "    while True:\n",
        "        try:\n",
        "            torrent_list = get_current_torrent_list()\n",
        "            control_torrents(torrent_list[1:-1])    \n",
        "            force_watch_dir(PARTIAL_DIR, is_partial=True)\n",
        "            force_watch_dir(\"/content/torrents/\", dir=DOWNLOAD_DIR, is_partial=False)  \n",
        "            time.sleep(0.5)\n",
        "        except BaseException as e:\n",
        "            print('{!r}; restarting thread'.format(e))\n",
        "\n",
        "import threading\n",
        "control_thread = threading.Thread(target=torrent_control)\n",
        "        \n",
        "if not control_thread.isAlive():\n",
        "    control_thread.start()\n",
        "    print (\"Control thread started\")\n",
        "else:\n",
        "    print(\"Control thread is already running.\")"
      ],
      "execution_count": 0,
      "outputs": [
        {
          "output_type": "stream",
          "text": [
            "Control thread started\n"
          ],
          "name": "stdout"
        }
      ]
    },
    {
      "cell_type": "code",
      "metadata": {
        "id": "6tbxxIt9Wj-I",
        "colab_type": "code",
        "colab": {}
      },
      "source": [
        "def clean_media_info(media_info):\n",
        "    media_info = text_to_lines(media_info)\n",
        "    \n",
        "    unnecessary_keys = [\"Unique ID\",\n",
        "                        \"ID\",\n",
        "                        \"Title\",\n",
        "                        \"Format settings\",\n",
        "                        \"Format/Info\",\n",
        "                        \"Tagged date\",\n",
        "                        \"Duration_LastFrame\",\n",
        "                        \"Alternate group\",\n",
        "                        \"Complete name\",\n",
        "                        \"Cover\",\n",
        "                        \"Attachments\",\n",
        "                        \"Default\",\n",
        "                        \"Forced\",\n",
        "                        \"Encoded date\",\n",
        "                        \"Writing application\",\n",
        "                        \"Writing library\",\n",
        "                        \"Color space\",\n",
        "                        \"Chroma subsampling\",\n",
        "                        \"Bits/(Pixel*Frame)\",\n",
        "                        \"Language\",\n",
        "                        \"Color range\",\n",
        "                        \"Color primaries\",\n",
        "                        \"Transfer characteristics\",\n",
        "                        \"Matrix coefficients\",\n",
        "                        \"Delay relative to video\",\n",
        "                        \"Service kind \",\n",
        "                        \"Encoding settings\",\n",
        "                        \"Statistics Tags Issue\"\n",
        "                       ]\n",
        "    \n",
        "    cleaned = \"\"\n",
        "    for info in media_info:\n",
        "        \n",
        "        if info.startswith(\"Menu\"):\n",
        "            break\n",
        "        \n",
        "        is_necessary = True\n",
        "        for unnecesarry_key in unnecessary_keys:\n",
        "            if info.startswith(unnecesarry_key):\n",
        "                is_necessary = False\n",
        "                break\n",
        "        if not is_necessary:\n",
        "            continue\n",
        "        \n",
        "        if info.startswith(\"Video\") or info.startswith(\"Audio\") or info.startswith(\"Text\"):\n",
        "            cleaned += \"\\n\"\n",
        "        cleaned += info + \"\\n\"\n",
        "    \n",
        "    return cleaned\n",
        "    "
      ],
      "execution_count": 0,
      "outputs": []
    },
    {
      "cell_type": "code",
      "metadata": {
        "id": "gsjSDg-VWj-K",
        "colab_type": "code",
        "colab": {}
      },
      "source": [
        "def prepare_upload_torrent(torrent_path, media_filepath, details=\"\", verbose=True):\n",
        "    import os\n",
        "    import sys\n",
        "    \n",
        "    to_path = \"/content/\"\n",
        "    if not os.path.exists(to_path):\n",
        "        os.makedirs(to_path)\n",
        "    \n",
        "    upload_template = '''\n",
        "    \n",
        "[center][df]\n",
        "[size=5][font=Comic]|||||||| [/font][font=Vivaldi]Uploaded by[/font] [font=Comic]|||||||| [/font][/size]\n",
        "[url=https://extraimage.net/image/yDS3][img]https://extraimage.net/images/2020/03/04/1ad511cf35a97bef9483c92d2472ffd3.th.png[/img][/url]\n",
        "[/df][/center]\n",
        "[hr][center][font=Curlz MT][size=7][color=#3EF60D][b]Details[/b][/color][/size][/font][/center][hr]\n",
        "\n",
        "[b][font=consolas][color=gray][spoiler]\n",
        "\n",
        "{details}\n",
        "\n",
        "[/spoiler][/color][/font][/b]\n",
        "\n",
        "[hr][center][font=Showcard Gothic][size=7][color=tomato][b]Screenshots[/b][/color][/size][/font][/center][hr]\n",
        "[center]\n",
        "\n",
        "{screenshots}\n",
        "\n",
        "[/center]\n",
        "\n",
        "[hr][center][size=7][color=tomato][b]𝕸𝖊𝖉𝖎𝖆 𝕴𝖓𝖋𝖔[/b][/color][/size][/center][hr]\n",
        "\n",
        "[font=consolas][color=green]\n",
        "[mediainfo]\n",
        "{mediainfo}\n",
        "[/mediainfo]\n",
        "[/color][/font]\n",
        "\n",
        "\n",
        "'''\n",
        "    screenshots = take_snaps(to_path, media_filepath)   \n",
        "    mediainfo = execute_raw_cmd([\"mediainfo\", media_filepath])\n",
        "    mediainfo = clean_media_info(mediainfo)\n",
        "\n",
        "    meta_file_path = os.path.basename(os.path.normpath(torrent_path))\n",
        "\n",
        "    upload_text_path = os.path.join(to_path,\"{}_upload.txt\".format(meta_file_path))\n",
        "    upload_template = upload_template.format(details=details, screenshots=screenshots, mediainfo=mediainfo)\n",
        "    text_file = open(upload_text_path, \"w\")\n",
        "    text_file.write(upload_template)\n",
        "    text_file.close()     \n",
        "\n",
        "    upload_torrent_path = os.path.join(to_path,\"{}_upload.torrent\".format(meta_file_path))\n",
        "    create_torrent(upload_torrent_path, torrent_path, verbose=verbose)"
      ],
      "execution_count": 0,
      "outputs": []
    },
    {
      "cell_type": "code",
      "metadata": {
        "id": "tQDtP0tQWj-M",
        "colab_type": "code",
        "colab": {}
      },
      "source": [
        "def clean_title(title):\n",
        "  title = title.replace(\".\", \" \")\n",
        "  title = title.replace(\"(\", \"\")\n",
        "  title = title.replace(\")\", \"\")\n",
        "  return title\n",
        "\n",
        "def process_to_upload(id, verbose=True):\n",
        "    import os\n",
        "    global COMPLETED\n",
        "    global COMPLETED_NON_TBD\n",
        "\n",
        "    if not id in COMPLETED:\n",
        "        if verbose:\n",
        "          print(\"Torrent download is not completed yet.\")\n",
        "        return\n",
        "\n",
        "    if not id in COMPLETED_NON_TBD:\n",
        "        if verbose:\n",
        "          print(\"It's a torrent bd torrent.\")\n",
        "        return\n",
        "\n",
        "    execute_cmd(\"transmission-remote -t {} -S\".format(id))\n",
        "\n",
        "    torrent_path, media_filepath, message = get_file_info(id)\n",
        "    prepare_upload_torrent(torrent_path, media_filepath, message, verbose)\n",
        "\n",
        "    remove_message = execute_cmd(\"transmission-remote -t {} -r\".format(id))\n",
        "    if verbose:\n",
        "      print(\"Removing torrent({}): {}\".format(id, remove_message))\n",
        "    COMPLETED_NON_TBD.remove(id)\n",
        "    "
      ],
      "execution_count": 0,
      "outputs": []
    },
    {
      "cell_type": "code",
      "metadata": {
        "id": "J-hY9vuj2Iy2",
        "colab_type": "code",
        "outputId": "43632768-6090-4c90-854b-0d37d4f4bcae",
        "colab": {
          "base_uri": "https://localhost:8080/",
          "height": 34
        }
      },
      "source": [
        "def remove_meta_files(directory_name):\n",
        "  import os\n",
        "  meta_file_path = os.path.basename(os.path.normpath(directory_name))\n",
        "  txt_file_path = os.path.join(\"/content/\", meta_file_path+\"_upload.txt\")\n",
        "  if os.path.exists(txt_file_path):\n",
        "    os.remove(txt_file_path)\n",
        "  torrent_file_path = os.path.join(\"/content/\", meta_file_path+\"_upload.torrent\")\n",
        "  if os.path.exists(torrent_file_path):\n",
        "    os.remove(torrent_file_path)\n",
        "\n",
        "def process_torrent():\n",
        "  import time\n",
        "  import os\n",
        "\n",
        "  global TBD\n",
        "  global PROCESSED_TO_UPLOAD\n",
        "  global CURRENTLY_PROCESSING\n",
        "  \n",
        "  while RUNNING_PROCESS_THREAD:\n",
        "    try:\n",
        "      if AUTO_PROCESS_UPLOAD:\n",
        "        for ready_id in COMPLETED_NON_TBD:\n",
        "          CURRENTLY_PROCESSING = ready_id\n",
        "          directory_name, _, _ = get_file_info(ready_id)\n",
        "          process_to_upload(ready_id, verbose=False)\n",
        "          PROCESSED_TO_UPLOAD.add(directory_name)\n",
        "          CURRENTLY_PROCESSING = -1\n",
        "        \n",
        "        if len(PROCESSED_TO_UPLOAD) > 0:\n",
        "          for tbd_id in TBD:\n",
        "              directory_name, _, _ = get_file_info(tbd_id)\n",
        "              if directory_name in PROCESSED_TO_UPLOAD:\n",
        "                remove_meta_files(directory_name)\n",
        "                PROCESSED_TO_UPLOAD.remove(directory_name)\n",
        "    except Exception as ex:\n",
        "      print(ex)\n",
        "    time.sleep(2.0)\n",
        "\n",
        "\n",
        "RUNNING_PROCESS_THREAD = True\n",
        "import threading\n",
        "process_thread = threading.Thread(target=process_torrent)\n",
        "        \n",
        "if not process_thread.isAlive():\n",
        "    process_thread.start()\n",
        "    print (\"Process thread started\")\n",
        "else:\n",
        "    print(\"Process thread is already running.\")"
      ],
      "execution_count": 0,
      "outputs": [
        {
          "output_type": "stream",
          "text": [
            "Process thread started\n"
          ],
          "name": "stdout"
        }
      ]
    },
    {
      "cell_type": "markdown",
      "metadata": {
        "id": "-za3EfxOWj-Q",
        "colab_type": "text"
      },
      "source": [
        "## Start from here\n"
      ]
    },
    {
      "cell_type": "markdown",
      "metadata": {
        "id": "6caej1xyQDmX",
        "colab_type": "text"
      },
      "source": [
        "**Status Here**"
      ]
    },
    {
      "cell_type": "code",
      "metadata": {
        "id": "6lzWFyJOnAwg",
        "colab_type": "code",
        "outputId": "9273f609-0150-4fe7-bcfc-2cc8096ccf7c",
        "colab": {
          "base_uri": "https://localhost:8080/",
          "height": 168
        }
      },
      "source": [
        "torrent_status()"
      ],
      "execution_count": 0,
      "outputs": [
        {
          "output_type": "stream",
          "text": [
            "--------------------------------------------------------------------------------------------------------------\n",
            "Ready To Upload Torrents: 1\n",
            "/content/Downloads/Bad.Trip.2020.WEBRip.x264-ION10\n",
            "--------------------------------------------------------------------------------------------------------------\n",
            "  ID     Done       Have  ETA           Up    Down  Ratio  Status       Name\n",
            "    1    19%   235.5 MB  3 min       90.0  3021.0    0.0  Up & Down    Sergio.2020.WEBRip.x264-ION10\n",
            "--------------------------------------------------------------------------------------------------------------\n",
            "  ID     Done       Have  ETA           Up    Down       Max_UP                Max_DL      Total Torrents        Remaining Session Time\n",
            "  Sum:          236.7 MB             163.0  1627.0     163.0 (1:0.0⬆)     1627.0 (1:19%)            1           11.77 h       "
          ],
          "name": "stdout"
        }
      ]
    },
    {
      "cell_type": "code",
      "metadata": {
        "id": "OA-ot-acWj-b",
        "colab_type": "code",
        "colab": {}
      },
      "source": [
        "!transmission-remote -t 15 -ip"
      ],
      "execution_count": 0,
      "outputs": []
    },
    {
      "cell_type": "markdown",
      "metadata": {
        "id": "iGN_xnhMO3Vc",
        "colab_type": "text"
      },
      "source": [
        "**Add Here**"
      ]
    },
    {
      "cell_type": "code",
      "metadata": {
        "id": "Hw-5gphzWj-Y",
        "colab_type": "code",
        "colab": {}
      },
      "source": [
        "torrent = \"\"\n",
        "print(add_torrent(torrent, dir=DOWNLOAD_DIR, is_temporary=False))"
      ],
      "execution_count": 0,
      "outputs": []
    },
    {
      "cell_type": "markdown",
      "metadata": {
        "id": "4WRIcA3mO-ro",
        "colab_type": "text"
      },
      "source": [
        "**Upload Here**\n"
      ]
    },
    {
      "cell_type": "code",
      "metadata": {
        "scrolled": true,
        "id": "NiLT2ZrUWj-V",
        "colab_type": "code",
        "colab": {}
      },
      "source": [
        "#process_to_upload(3, verbose=True)"
      ],
      "execution_count": 0,
      "outputs": []
    }
  ]
}